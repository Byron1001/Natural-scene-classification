{
 "cells": [
  {
   "cell_type": "markdown",
   "metadata": {
    "papermill": {
     "duration": 0.018524,
     "end_time": "2021-01-11T05:52:22.975279",
     "exception": false,
     "start_time": "2021-01-11T05:52:22.956755",
     "status": "completed"
    },
    "tags": []
   },
   "source": [
    "# About EfficientNet"
   ]
  },
  {
   "cell_type": "markdown",
   "metadata": {
    "papermill": {
     "duration": 0.016825,
     "end_time": "2021-01-11T05:52:23.010085",
     "exception": false,
     "start_time": "2021-01-11T05:52:22.993260",
     "status": "completed"
    },
    "tags": []
   },
   "source": [
    "**EfficientNet** is a lightweight convolutional neural network architecture achieving the state-of-the-art accuracy with an order of magnitude fewer parameters and FLOPS, on both ImageNet and five other commonly used transfer learning datasets.\n",
    "\n",
    "**EfficientNets** rely on AutoML and compound scaling to achieve superior performance without compromising resource efficiency. The AutoML Mobile framework has helped develop a mobile-size baseline network, EfficientNet-B0, which is then improved by the compound scaling method to obtain EfficientNet-B1 to B7.\n",
    "\n",
    "<img src='https://raw.githubusercontent.com/tensorflow/tpu/master/models/official/efficientnet/g3doc/flops.png' width=\"500\" height=\"600\">\n",
    "\n",
    "EfficientNets achieve state-of-the-art accuracy on ImageNet with an order of magnitude better efficiency:\n",
    "\n",
    "* In high-accuracy regime, EfficientNet-B7 achieves the state-of-the-art 84.4% top-1 / 97.1% top-5 accuracy on ImageNet with 66M parameters and 37B FLOPS. At the same time, the model is 8.4x smaller and 6.1x faster on CPU inference than the former leader, Gpipe.\n",
    "\n",
    "* In middle-accuracy regime, EfficientNet-B1 is 7.6x smaller and 5.7x faster on CPU inference than ResNet-152, with similar ImageNet accuracy.\n",
    "\n",
    "* Compared to the widely used ResNet-50, EfficientNet-B4 improves the top-1 accuracy from 76.3% of ResNet-50 to 82.6% (+6.3%), under similar FLOPS constraints."
   ]
  },
  {
   "cell_type": "code",
   "execution_count": 1,
   "metadata": {
    "_cell_guid": "b1076dfc-b9ad-4769-8c92-a6c4dae69d19",
    "_uuid": "8f2839f25d086af736a60e9eeb907d3b93b6e0e5",
    "execution": {
     "iopub.execute_input": "2021-01-11T05:52:23.051185Z",
     "iopub.status.busy": "2021-01-11T05:52:23.050562Z",
     "iopub.status.idle": "2021-01-11T05:52:23.208667Z",
     "shell.execute_reply": "2021-01-11T05:52:23.208076Z"
    },
    "papermill": {
     "duration": 0.181703,
     "end_time": "2021-01-11T05:52:23.208774",
     "exception": false,
     "start_time": "2021-01-11T05:52:23.027071",
     "status": "completed"
    },
    "tags": []
   },
   "outputs": [],
   "source": [
    "import numpy as np # linear algebra\n",
    "import pandas as pd # data processing, CSV file I/O (e.g. pd.read_csv)\n",
    "import glob\n",
    "import os\n",
    "import cv2\n",
    "from IPython.display import Image"
   ]
  },
  {
   "cell_type": "code",
   "execution_count": 2,
   "metadata": {
    "execution": {
     "iopub.execute_input": "2021-01-11T05:52:23.250132Z",
     "iopub.status.busy": "2021-01-11T05:52:23.249390Z",
     "iopub.status.idle": "2021-01-11T05:52:23.251861Z",
     "shell.execute_reply": "2021-01-11T05:52:23.252433Z"
    },
    "papermill": {
     "duration": 0.025776,
     "end_time": "2021-01-11T05:52:23.252543",
     "exception": false,
     "start_time": "2021-01-11T05:52:23.226767",
     "status": "completed"
    },
    "tags": []
   },
   "outputs": [],
   "source": [
    "def show(img):\n",
    "    return (Image(cv2.imencode(\".png\",img)[1].tobytes()))"
   ]
  },
  {
   "cell_type": "markdown",
   "metadata": {
    "papermill": {
     "duration": 0.017389,
     "end_time": "2021-01-11T05:52:23.288069",
     "exception": false,
     "start_time": "2021-01-11T05:52:23.270680",
     "status": "completed"
    },
    "tags": []
   },
   "source": [
    "# Read Data"
   ]
  },
  {
   "cell_type": "code",
   "execution_count": 3,
   "metadata": {
    "_cell_guid": "79c7e3d0-c299-4dcb-8224-4455121ee9b0",
    "_uuid": "d629ff2d2480ee46fbb7e2d37f6b5fab8052498a",
    "execution": {
     "iopub.execute_input": "2021-01-11T05:52:23.326918Z",
     "iopub.status.busy": "2021-01-11T05:52:23.326350Z",
     "iopub.status.idle": "2021-01-11T05:52:23.335225Z",
     "shell.execute_reply": "2021-01-11T05:52:23.334714Z"
    },
    "papermill": {
     "duration": 0.029631,
     "end_time": "2021-01-11T05:52:23.335315",
     "exception": false,
     "start_time": "2021-01-11T05:52:23.305684",
     "status": "completed"
    },
    "tags": []
   },
   "outputs": [
    {
     "name": "stdout",
     "output_type": "stream",
     "text": [
      "['seg_train', 'seg_pred', 'seg_test']\n"
     ]
    }
   ],
   "source": [
    "base_path = '/kaggle/input/intel-image-classification/'\n",
    "folders = os.listdir(base_path)\n",
    "print(folders)"
   ]
  },
  {
   "cell_type": "code",
   "execution_count": 4,
   "metadata": {
    "execution": {
     "iopub.execute_input": "2021-01-11T05:52:23.377739Z",
     "iopub.status.busy": "2021-01-11T05:52:23.376929Z",
     "iopub.status.idle": "2021-01-11T05:52:23.380212Z",
     "shell.execute_reply": "2021-01-11T05:52:23.380716Z"
    },
    "papermill": {
     "duration": 0.026831,
     "end_time": "2021-01-11T05:52:23.380837",
     "exception": false,
     "start_time": "2021-01-11T05:52:23.354006",
     "status": "completed"
    },
    "tags": []
   },
   "outputs": [
    {
     "data": {
      "text/plain": [
       "'/kaggle/input/intel-image-classification/seg_train/'"
      ]
     },
     "execution_count": 4,
     "metadata": {},
     "output_type": "execute_result"
    }
   ],
   "source": [
    "base_path+folders[0]+'/'"
   ]
  },
  {
   "cell_type": "markdown",
   "metadata": {
    "papermill": {
     "duration": 0.018495,
     "end_time": "2021-01-11T05:52:23.417706",
     "exception": false,
     "start_time": "2021-01-11T05:52:23.399211",
     "status": "completed"
    },
    "tags": []
   },
   "source": [
    "# EDA"
   ]
  },
  {
   "cell_type": "code",
   "execution_count": 5,
   "metadata": {
    "execution": {
     "iopub.execute_input": "2021-01-11T05:52:23.463211Z",
     "iopub.status.busy": "2021-01-11T05:52:23.462468Z",
     "iopub.status.idle": "2021-01-11T05:52:24.867727Z",
     "shell.execute_reply": "2021-01-11T05:52:24.866530Z"
    },
    "papermill": {
     "duration": 1.432013,
     "end_time": "2021-01-11T05:52:24.867865",
     "exception": false,
     "start_time": "2021-01-11T05:52:23.435852",
     "status": "completed"
    },
    "tags": []
   },
   "outputs": [
    {
     "name": "stdout",
     "output_type": "stream",
     "text": [
      "train_folders: ['mountain', 'street', 'buildings', 'sea', 'forest', 'glacier']\n",
      "----Train Data Distribution-----\n",
      "Folder Name : No. of Images\n",
      "mountain    : 2512\n",
      "street      : 2382\n",
      "buildings   : 2191\n",
      "sea         : 2274\n",
      "forest      : 2271\n",
      "glacier     : 2404\n"
     ]
    }
   ],
   "source": [
    "train_folders = os.listdir(os.path.join(base_path,folders[0],folders[0]))\n",
    "print(f'train_folders: {train_folders}')\n",
    "print('----Train Data Distribution-----')\n",
    "print(f'Folder Name : No. of Images')\n",
    "for folder in train_folders:\n",
    "    print(f'{folder:11} : {len(os.listdir(os.path.join(base_path,folders[0],folders[0],folder)))}')"
   ]
  },
  {
   "cell_type": "code",
   "execution_count": 6,
   "metadata": {
    "execution": {
     "iopub.execute_input": "2021-01-11T05:52:24.914962Z",
     "iopub.status.busy": "2021-01-11T05:52:24.914372Z",
     "iopub.status.idle": "2021-01-11T05:52:25.450953Z",
     "shell.execute_reply": "2021-01-11T05:52:25.450281Z"
    },
    "papermill": {
     "duration": 0.562315,
     "end_time": "2021-01-11T05:52:25.451074",
     "exception": false,
     "start_time": "2021-01-11T05:52:24.888759",
     "status": "completed"
    },
    "tags": []
   },
   "outputs": [
    {
     "name": "stdout",
     "output_type": "stream",
     "text": [
      "val_folders: ['mountain', 'street', 'buildings', 'sea', 'forest', 'glacier']\n",
      "----Val Data Distribution-----\n",
      "Folder Name : No. of Images\n",
      "mountain    : 525\n",
      "street      : 501\n",
      "buildings   : 437\n",
      "sea         : 510\n",
      "forest      : 474\n",
      "glacier     : 553\n"
     ]
    }
   ],
   "source": [
    "val_folders = os.listdir(os.path.join(base_path,folders[2],folders[2]))\n",
    "print(f'val_folders: {val_folders}')\n",
    "print('----Val Data Distribution-----')\n",
    "print(f'Folder Name : No. of Images')\n",
    "for folder in val_folders:\n",
    "    print(f'{folder:11} : {len(os.listdir(os.path.join(base_path,folders[2],folders[2],folder)))}')"
   ]
  },
  {
   "cell_type": "code",
   "execution_count": 7,
   "metadata": {
    "execution": {
     "iopub.execute_input": "2021-01-11T05:52:25.504149Z",
     "iopub.status.busy": "2021-01-11T05:52:25.503141Z",
     "iopub.status.idle": "2021-01-11T05:52:25.939214Z",
     "shell.execute_reply": "2021-01-11T05:52:25.938688Z"
    },
    "papermill": {
     "duration": 0.463572,
     "end_time": "2021-01-11T05:52:25.939320",
     "exception": false,
     "start_time": "2021-01-11T05:52:25.475748",
     "status": "completed"
    },
    "tags": []
   },
   "outputs": [
    {
     "name": "stdout",
     "output_type": "stream",
     "text": [
      "test_images: 7301\n",
      "First ten Images\n",
      "['6234.jpg', '22288.jpg', '20529.jpg', '21440.jpg', '5982.jpg', '7737.jpg', '2081.jpg', '10054.jpg', '3919.jpg', '21838.jpg']\n"
     ]
    }
   ],
   "source": [
    "test_images = os.listdir(os.path.join(base_path,folders[1],folders[1]))\n",
    "print(f'test_images: {len(test_images)}')\n",
    "print('First ten Images')\n",
    "print(test_images[:10])"
   ]
  },
  {
   "cell_type": "markdown",
   "metadata": {
    "papermill": {
     "duration": 0.023034,
     "end_time": "2021-01-11T05:52:25.985934",
     "exception": false,
     "start_time": "2021-01-11T05:52:25.962900",
     "status": "completed"
    },
    "tags": []
   },
   "source": [
    "# Import Libraries"
   ]
  },
  {
   "cell_type": "code",
   "execution_count": 8,
   "metadata": {
    "execution": {
     "iopub.execute_input": "2021-01-11T05:52:26.037915Z",
     "iopub.status.busy": "2021-01-11T05:52:26.037121Z",
     "iopub.status.idle": "2021-01-11T05:52:35.372507Z",
     "shell.execute_reply": "2021-01-11T05:52:35.371008Z"
    },
    "papermill": {
     "duration": 9.362944,
     "end_time": "2021-01-11T05:52:35.372635",
     "exception": false,
     "start_time": "2021-01-11T05:52:26.009691",
     "status": "completed"
    },
    "tags": []
   },
   "outputs": [
    {
     "name": "stdout",
     "output_type": "stream",
     "text": [
      "Collecting efficientnet\r\n",
      "  Downloading efficientnet-1.1.1-py3-none-any.whl (18 kB)\r\n",
      "Requirement already satisfied: scikit-image in /opt/conda/lib/python3.7/site-packages (from efficientnet) (0.16.2)\r\n",
      "Collecting keras-applications<=1.0.8,>=1.0.7\r\n",
      "  Downloading Keras_Applications-1.0.8-py3-none-any.whl (50 kB)\r\n",
      "\u001b[K     |████████████████████████████████| 50 kB 2.5 MB/s \r\n",
      "\u001b[?25hRequirement already satisfied: numpy>=1.9.1 in /opt/conda/lib/python3.7/site-packages (from keras-applications<=1.0.8,>=1.0.7->efficientnet) (1.18.5)\r\n",
      "Requirement already satisfied: h5py in /opt/conda/lib/python3.7/site-packages (from keras-applications<=1.0.8,>=1.0.7->efficientnet) (2.10.0)\r\n",
      "Requirement already satisfied: six in /opt/conda/lib/python3.7/site-packages (from h5py->keras-applications<=1.0.8,>=1.0.7->efficientnet) (1.14.0)\r\n",
      "Requirement already satisfied: numpy>=1.9.1 in /opt/conda/lib/python3.7/site-packages (from keras-applications<=1.0.8,>=1.0.7->efficientnet) (1.18.5)\r\n",
      "Requirement already satisfied: scipy>=0.19.0 in /opt/conda/lib/python3.7/site-packages (from scikit-image->efficientnet) (1.4.1)\r\n",
      "Requirement already satisfied: matplotlib!=3.0.0,>=2.0.0 in /opt/conda/lib/python3.7/site-packages (from scikit-image->efficientnet) (3.2.1)\r\n",
      "Requirement already satisfied: networkx>=2.0 in /opt/conda/lib/python3.7/site-packages (from scikit-image->efficientnet) (2.4)\r\n",
      "Requirement already satisfied: pillow>=4.3.0 in /opt/conda/lib/python3.7/site-packages (from scikit-image->efficientnet) (8.0.1)\r\n",
      "Requirement already satisfied: imageio>=2.3.0 in /opt/conda/lib/python3.7/site-packages (from scikit-image->efficientnet) (2.8.0)\r\n",
      "Requirement already satisfied: PyWavelets>=0.4.0 in /opt/conda/lib/python3.7/site-packages (from scikit-image->efficientnet) (1.1.1)\r\n",
      "Requirement already satisfied: pillow>=4.3.0 in /opt/conda/lib/python3.7/site-packages (from scikit-image->efficientnet) (8.0.1)\r\n",
      "Requirement already satisfied: numpy>=1.9.1 in /opt/conda/lib/python3.7/site-packages (from keras-applications<=1.0.8,>=1.0.7->efficientnet) (1.18.5)\r\n",
      "Requirement already satisfied: cycler>=0.10 in /opt/conda/lib/python3.7/site-packages (from matplotlib!=3.0.0,>=2.0.0->scikit-image->efficientnet) (0.10.0)\r\n",
      "Requirement already satisfied: python-dateutil>=2.1 in /opt/conda/lib/python3.7/site-packages (from matplotlib!=3.0.0,>=2.0.0->scikit-image->efficientnet) (2.8.1)\r\n",
      "Requirement already satisfied: numpy>=1.9.1 in /opt/conda/lib/python3.7/site-packages (from keras-applications<=1.0.8,>=1.0.7->efficientnet) (1.18.5)\r\n",
      "Requirement already satisfied: kiwisolver>=1.0.1 in /opt/conda/lib/python3.7/site-packages (from matplotlib!=3.0.0,>=2.0.0->scikit-image->efficientnet) (1.2.0)\r\n",
      "Requirement already satisfied: pyparsing!=2.0.4,!=2.1.2,!=2.1.6,>=2.0.1 in /opt/conda/lib/python3.7/site-packages (from matplotlib!=3.0.0,>=2.0.0->scikit-image->efficientnet) (2.4.7)\r\n",
      "Requirement already satisfied: six in /opt/conda/lib/python3.7/site-packages (from h5py->keras-applications<=1.0.8,>=1.0.7->efficientnet) (1.14.0)\r\n",
      "Requirement already satisfied: decorator>=4.3.0 in /opt/conda/lib/python3.7/site-packages (from networkx>=2.0->scikit-image->efficientnet) (4.4.2)\r\n",
      "Requirement already satisfied: six in /opt/conda/lib/python3.7/site-packages (from h5py->keras-applications<=1.0.8,>=1.0.7->efficientnet) (1.14.0)\r\n",
      "Requirement already satisfied: numpy>=1.9.1 in /opt/conda/lib/python3.7/site-packages (from keras-applications<=1.0.8,>=1.0.7->efficientnet) (1.18.5)\r\n",
      "Requirement already satisfied: numpy>=1.9.1 in /opt/conda/lib/python3.7/site-packages (from keras-applications<=1.0.8,>=1.0.7->efficientnet) (1.18.5)\r\n",
      "Installing collected packages: keras-applications, efficientnet\r\n",
      "Successfully installed efficientnet-1.1.1 keras-applications-1.0.8\r\n",
      "\u001b[33mWARNING: You are using pip version 20.3.1; however, version 20.3.3 is available.\r\n",
      "You should consider upgrading via the '/opt/conda/bin/python3.7 -m pip install --upgrade pip' command.\u001b[0m\r\n"
     ]
    }
   ],
   "source": [
    "!pip install -U efficientnet"
   ]
  },
  {
   "cell_type": "code",
   "execution_count": 9,
   "metadata": {
    "execution": {
     "iopub.execute_input": "2021-01-11T05:52:35.434455Z",
     "iopub.status.busy": "2021-01-11T05:52:35.433632Z",
     "iopub.status.idle": "2021-01-11T05:52:41.062179Z",
     "shell.execute_reply": "2021-01-11T05:52:41.061175Z"
    },
    "papermill": {
     "duration": 5.661935,
     "end_time": "2021-01-11T05:52:41.062324",
     "exception": false,
     "start_time": "2021-01-11T05:52:35.400389",
     "status": "completed"
    },
    "tags": []
   },
   "outputs": [
    {
     "name": "stdout",
     "output_type": "stream",
     "text": [
      "Libraries Imported!\n"
     ]
    }
   ],
   "source": [
    "import tensorflow as tf\n",
    "import matplotlib.pyplot as plt\n",
    "from tensorflow.keras.preprocessing.image import ImageDataGenerator\n",
    "from keras.callbacks import ReduceLROnPlateau\n",
    "# from keras.applications.inception_v3 import InceptionV3\n",
    "# from tensorflow.keras.applications import EfficientNetB2\n",
    "import efficientnet.keras as efn \n",
    "# model = efn.EfficientNetB0(weights='imagenet') \n",
    "from keras import Model, layers\n",
    "from keras.layers import GlobalAveragePooling2D, Dropout, Dense, Input\n",
    "\n",
    "print(\"Libraries Imported!\")"
   ]
  },
  {
   "cell_type": "code",
   "execution_count": 10,
   "metadata": {
    "execution": {
     "iopub.execute_input": "2021-01-11T05:52:41.127405Z",
     "iopub.status.busy": "2021-01-11T05:52:41.126479Z",
     "iopub.status.idle": "2021-01-11T05:52:51.586594Z",
     "shell.execute_reply": "2021-01-11T05:52:51.585742Z"
    },
    "papermill": {
     "duration": 10.495807,
     "end_time": "2021-01-11T05:52:51.586704",
     "exception": false,
     "start_time": "2021-01-11T05:52:41.090897",
     "status": "completed"
    },
    "tags": []
   },
   "outputs": [
    {
     "name": "stdout",
     "output_type": "stream",
     "text": [
      "Found 14034 images belonging to 6 classes.\n",
      "Found 3000 images belonging to 6 classes.\n"
     ]
    }
   ],
   "source": [
    "train_DIR = \"/kaggle/input/intel-image-classification/seg_train/seg_train/\"\n",
    "\n",
    "train_datagen = ImageDataGenerator( rescale = 1.0/255,\n",
    "                                          width_shift_range=0.2,\n",
    "                                          height_shift_range=0.2,\n",
    "                                          zoom_range=0.2,\n",
    "                                          vertical_flip=True,\n",
    "                                          fill_mode='nearest')\n",
    "\n",
    "\n",
    "train_generator = train_datagen.flow_from_directory(train_DIR,\n",
    "                                                    batch_size=32,\n",
    "                                                    class_mode='categorical',\n",
    "                                                    target_size=(250, 250))\n",
    "\n",
    "test_DIR = \"/kaggle/input/intel-image-classification/seg_test/seg_test/\"\n",
    "validation_datagen = ImageDataGenerator(rescale = 1.0/255)\n",
    "\n",
    "\n",
    "validation_generator = validation_datagen.flow_from_directory(test_DIR,\n",
    "                                                    batch_size=128,\n",
    "                                                    class_mode='categorical',\n",
    "                                                    target_size=(250, 250))"
   ]
  },
  {
   "cell_type": "code",
   "execution_count": 11,
   "metadata": {
    "execution": {
     "iopub.execute_input": "2021-01-11T05:52:51.652709Z",
     "iopub.status.busy": "2021-01-11T05:52:51.651334Z",
     "iopub.status.idle": "2021-01-11T05:52:51.655003Z",
     "shell.execute_reply": "2021-01-11T05:52:51.653286Z"
    },
    "papermill": {
     "duration": 0.039484,
     "end_time": "2021-01-11T05:52:51.655146",
     "exception": false,
     "start_time": "2021-01-11T05:52:51.615662",
     "status": "completed"
    },
    "tags": []
   },
   "outputs": [
    {
     "name": "stdout",
     "output_type": "stream",
     "text": [
      "{'buildings': 0, 'forest': 1, 'glacier': 2, 'mountain': 3, 'sea': 4, 'street': 5}\n",
      "{0: 'buildings', 1: 'forest', 2: 'glacier', 3: 'mountain', 4: 'sea', 5: 'street'}\n"
     ]
    }
   ],
   "source": [
    "print(validation_generator.class_indices)\n",
    "class2index = validation_generator.class_indices\n",
    "\n",
    "index2class = {v: k for k, v in class2index.items()}\n",
    "print(index2class)"
   ]
  },
  {
   "cell_type": "markdown",
   "metadata": {
    "papermill": {
     "duration": 0.028717,
     "end_time": "2021-01-11T05:52:51.713243",
     "exception": false,
     "start_time": "2021-01-11T05:52:51.684526",
     "status": "completed"
    },
    "tags": []
   },
   "source": [
    "# Get Model"
   ]
  },
  {
   "cell_type": "code",
   "execution_count": 12,
   "metadata": {
    "execution": {
     "iopub.execute_input": "2021-01-11T05:52:51.774406Z",
     "iopub.status.busy": "2021-01-11T05:52:51.773788Z",
     "iopub.status.idle": "2021-01-11T05:52:58.507536Z",
     "shell.execute_reply": "2021-01-11T05:52:58.506299Z"
    },
    "papermill": {
     "duration": 6.766025,
     "end_time": "2021-01-11T05:52:58.507674",
     "exception": false,
     "start_time": "2021-01-11T05:52:51.741649",
     "status": "completed"
    },
    "tags": []
   },
   "outputs": [
    {
     "name": "stdout",
     "output_type": "stream",
     "text": [
      "Downloading data from https://github.com/Callidior/keras-applications/releases/download/efficientnet/efficientnet-b1_weights_tf_dim_ordering_tf_kernels_autoaugment.h5\n",
      "32145408/32139920 [==============================] - 0s 0us/step\n"
     ]
    }
   ],
   "source": [
    "efficientNet = efn.EfficientNetB1(weights='imagenet')\n",
    "\n",
    "# for layer in efficientNet.layers:\n",
    "#     layer.trainable = False"
   ]
  },
  {
   "cell_type": "code",
   "execution_count": 13,
   "metadata": {
    "execution": {
     "iopub.execute_input": "2021-01-11T05:52:58.582515Z",
     "iopub.status.busy": "2021-01-11T05:52:58.580655Z",
     "iopub.status.idle": "2021-01-11T05:52:58.583258Z",
     "shell.execute_reply": "2021-01-11T05:52:58.583766Z"
    },
    "papermill": {
     "duration": 0.041922,
     "end_time": "2021-01-11T05:52:58.583905",
     "exception": false,
     "start_time": "2021-01-11T05:52:58.541983",
     "status": "completed"
    },
    "tags": []
   },
   "outputs": [],
   "source": [
    "\n",
    "last_output = efficientNet.layers[-1].output"
   ]
  },
  {
   "cell_type": "code",
   "execution_count": 14,
   "metadata": {
    "execution": {
     "iopub.execute_input": "2021-01-11T05:52:58.696077Z",
     "iopub.status.busy": "2021-01-11T05:52:58.695374Z",
     "iopub.status.idle": "2021-01-11T05:52:58.776708Z",
     "shell.execute_reply": "2021-01-11T05:52:58.776135Z"
    },
    "papermill": {
     "duration": 0.157642,
     "end_time": "2021-01-11T05:52:58.776834",
     "exception": false,
     "start_time": "2021-01-11T05:52:58.619192",
     "status": "completed"
    },
    "tags": []
   },
   "outputs": [],
   "source": [
    "# x = tf.keras.layers.Flatten()(last_output)\n",
    "x = tf.keras.layers.Dense(units = 128, activation = tf.nn.relu)(last_output)\n",
    "# x = tf.keras.layers.Dropout(0.2)(x)\n",
    "x = tf.keras.layers.Dense  (6, activation = tf.nn.softmax)(x)\n",
    "\n",
    "model = tf.keras.Model( efficientNet.input, x)\n",
    "\n",
    "learning_rate_reduction = ReduceLROnPlateau(monitor='val_acc',\n",
    "                                            patience=1,\n",
    "                                            verbose=1,\n",
    "                                            factor=0.25,\n",
    "                                            min_lr=0.000003)\n",
    "\n",
    "model.compile(loss = 'categorical_crossentropy', optimizer= tf.keras.optimizers.Adam(), metrics=['acc'])\n",
    "\n",
    "# model.summary()"
   ]
  },
  {
   "cell_type": "markdown",
   "metadata": {
    "papermill": {
     "duration": 0.033048,
     "end_time": "2021-01-11T05:52:58.843817",
     "exception": false,
     "start_time": "2021-01-11T05:52:58.810769",
     "status": "completed"
    },
    "tags": []
   },
   "source": [
    "# Train"
   ]
  },
  {
   "cell_type": "code",
   "execution_count": 15,
   "metadata": {
    "execution": {
     "iopub.execute_input": "2021-01-11T05:52:58.916478Z",
     "iopub.status.busy": "2021-01-11T05:52:58.915771Z",
     "iopub.status.idle": "2021-01-11T07:16:35.869253Z",
     "shell.execute_reply": "2021-01-11T07:16:35.868365Z"
    },
    "papermill": {
     "duration": 5016.992657,
     "end_time": "2021-01-11T07:16:35.869387",
     "exception": false,
     "start_time": "2021-01-11T05:52:58.876730",
     "status": "completed"
    },
    "tags": []
   },
   "outputs": [
    {
     "name": "stdout",
     "output_type": "stream",
     "text": [
      "Epoch 1/15\n",
      "439/439 [==============================] - 362s 825ms/step - loss: 1.0657 - acc: 0.6300 - val_loss: 0.8291 - val_acc: 0.6923\n",
      "Epoch 2/15\n",
      "439/439 [==============================] - 295s 672ms/step - loss: 0.6914 - acc: 0.7456 - val_loss: 0.7788 - val_acc: 0.7163\n",
      "Epoch 3/15\n",
      "439/439 [==============================] - 308s 702ms/step - loss: 0.5254 - acc: 0.8169 - val_loss: 0.5974 - val_acc: 0.8087\n",
      "Epoch 4/15\n",
      "439/439 [==============================] - 331s 755ms/step - loss: 0.4628 - acc: 0.8403 - val_loss: 0.4148 - val_acc: 0.8677\n",
      "Epoch 5/15\n",
      "439/439 [==============================] - ETA: 0s - loss: 0.4362 - acc: 0.8449\n",
      "Epoch 00005: ReduceLROnPlateau reducing learning rate to 0.0002500000118743628.\n",
      "439/439 [==============================] - 342s 779ms/step - loss: 0.4362 - acc: 0.8449 - val_loss: 0.6488 - val_acc: 0.7820\n",
      "Epoch 6/15\n",
      "439/439 [==============================] - 339s 772ms/step - loss: 0.3878 - acc: 0.8627 - val_loss: 0.3081 - val_acc: 0.8880\n",
      "Epoch 7/15\n",
      "439/439 [==============================] - 350s 798ms/step - loss: 0.3143 - acc: 0.8938 - val_loss: 0.2878 - val_acc: 0.8970\n",
      "Epoch 8/15\n",
      "439/439 [==============================] - 352s 803ms/step - loss: 0.2833 - acc: 0.9029 - val_loss: 0.2791 - val_acc: 0.9057\n",
      "Epoch 9/15\n",
      "439/439 [==============================] - 352s 802ms/step - loss: 0.2591 - acc: 0.9120 - val_loss: 0.2832 - val_acc: 0.9060\n",
      "Epoch 10/15\n",
      "439/439 [==============================] - 338s 770ms/step - loss: 0.2598 - acc: 0.9101 - val_loss: 0.2505 - val_acc: 0.9113\n",
      "Epoch 11/15\n",
      "439/439 [==============================] - ETA: 0s - loss: 0.2302 - acc: 0.9224\n",
      "Epoch 00011: ReduceLROnPlateau reducing learning rate to 6.25000029685907e-05.\n",
      "439/439 [==============================] - 319s 727ms/step - loss: 0.2302 - acc: 0.9224 - val_loss: 0.2644 - val_acc: 0.9057\n",
      "Epoch 12/15\n",
      "439/439 [==============================] - 319s 727ms/step - loss: 0.2072 - acc: 0.9295 - val_loss: 0.2375 - val_acc: 0.9173\n",
      "Epoch 13/15\n",
      "439/439 [==============================] - ETA: 0s - loss: 0.1974 - acc: 0.9347\n",
      "Epoch 00013: ReduceLROnPlateau reducing learning rate to 1.5625000742147677e-05.\n",
      "439/439 [==============================] - 323s 735ms/step - loss: 0.1974 - acc: 0.9347 - val_loss: 0.2358 - val_acc: 0.9173\n",
      "Epoch 14/15\n",
      "439/439 [==============================] - 327s 745ms/step - loss: 0.1966 - acc: 0.9305 - val_loss: 0.2341 - val_acc: 0.9183\n",
      "Epoch 15/15\n",
      "439/439 [==============================] - 324s 739ms/step - loss: 0.1889 - acc: 0.9362 - val_loss: 0.2299 - val_acc: 0.9193\n"
     ]
    }
   ],
   "source": [
    "history = model.fit(train_generator,\n",
    "                    epochs = 15,\n",
    "                    verbose = 1,\n",
    "                   validation_data = validation_generator,\n",
    "                   callbacks=[learning_rate_reduction])"
   ]
  },
  {
   "cell_type": "markdown",
   "metadata": {
    "papermill": {
     "duration": 2.2878,
     "end_time": "2021-01-11T07:16:40.759548",
     "exception": false,
     "start_time": "2021-01-11T07:16:38.471748",
     "status": "completed"
    },
    "tags": []
   },
   "source": [
    "# Visualize Model Perfomance"
   ]
  },
  {
   "cell_type": "code",
   "execution_count": 16,
   "metadata": {
    "execution": {
     "iopub.execute_input": "2021-01-11T07:16:45.420215Z",
     "iopub.status.busy": "2021-01-11T07:16:45.418877Z",
     "iopub.status.idle": "2021-01-11T07:16:45.779091Z",
     "shell.execute_reply": "2021-01-11T07:16:45.779594Z"
    },
    "papermill": {
     "duration": 2.725293,
     "end_time": "2021-01-11T07:16:45.779727",
     "exception": false,
     "start_time": "2021-01-11T07:16:43.054434",
     "status": "completed"
    },
    "tags": []
   },
   "outputs": [
    {
     "data": {
      "image/png": "[encoded data removed]",
      "text/plain": [
       "<Figure size 432x288 with 1 Axes>"
      ]
     },
     "metadata": {
      "needs_background": "light"
     },
     "output_type": "display_data"
    },
    {
     "data": {
      "image/png": "[encoded data removed]",
      "text/plain": [
       "<Figure size 432x288 with 1 Axes>"
      ]
     },
     "metadata": {
      "needs_background": "light"
     },
     "output_type": "display_data"
    }
   ],
   "source": [
    "%matplotlib inline\n",
    "acc = history.history['acc']\n",
    "val_acc = history.history['val_acc']\n",
    "loss = history.history['loss']\n",
    "val_loss = history.history['val_loss']\n",
    "\n",
    "epochs = range(len(acc))\n",
    "\n",
    "plt.plot(epochs, acc, 'r', label='Training accuracy')\n",
    "plt.plot(epochs, val_acc, 'b', label='Validation accuracy')\n",
    "plt.title('Training and validation accuracy')\n",
    "plt.legend()\n",
    "plt.figure()\n",
    "\n",
    "plt.plot(epochs, loss, 'r', label='Training Loss')\n",
    "plt.plot(epochs, val_loss, 'b', label='Validation Loss')\n",
    "plt.title('Training and validation loss')\n",
    "plt.legend()\n",
    "\n",
    "plt.show()"
   ]
  },
  {
   "cell_type": "code",
   "execution_count": 17,
   "metadata": {
    "execution": {
     "iopub.execute_input": "2021-01-11T07:16:50.798413Z",
     "iopub.status.busy": "2021-01-11T07:16:50.797381Z",
     "iopub.status.idle": "2021-01-11T07:16:50.803313Z",
     "shell.execute_reply": "2021-01-11T07:16:50.799665Z"
    },
    "papermill": {
     "duration": 2.684279,
     "end_time": "2021-01-11T07:16:50.803462",
     "exception": false,
     "start_time": "2021-01-11T07:16:48.119183",
     "status": "completed"
    },
    "tags": []
   },
   "outputs": [
    {
     "name": "stdout",
     "output_type": "stream",
     "text": [
      "{'buildings': 0, 'forest': 1, 'glacier': 2, 'mountain': 3, 'sea': 4, 'street': 5}\n"
     ]
    }
   ],
   "source": [
    "print(validation_generator.class_indices)"
   ]
  },
  {
   "cell_type": "code",
   "execution_count": 18,
   "metadata": {
    "execution": {
     "iopub.execute_input": "2021-01-11T07:16:55.733689Z",
     "iopub.status.busy": "2021-01-11T07:16:55.733009Z",
     "iopub.status.idle": "2021-01-11T07:16:55.775977Z",
     "shell.execute_reply": "2021-01-11T07:16:55.775356Z"
    },
    "papermill": {
     "duration": 2.392831,
     "end_time": "2021-01-11T07:16:55.776094",
     "exception": false,
     "start_time": "2021-01-11T07:16:53.383263",
     "status": "completed"
    },
    "tags": []
   },
   "outputs": [
    {
     "data": {
      "text/plain": [
       "(250, 250, 3)"
      ]
     },
     "execution_count": 18,
     "metadata": {},
     "output_type": "execute_result"
    }
   ],
   "source": [
    "path = os.path.join(base_path,folders[1],folders[1],test_images[0])\n",
    "img = cv2.resize(cv2.imread(path),(250,250))\n",
    "img.shape\n"
   ]
  },
  {
   "cell_type": "code",
   "execution_count": 19,
   "metadata": {
    "execution": {
     "iopub.execute_input": "2021-01-11T07:17:01.062984Z",
     "iopub.status.busy": "2021-01-11T07:17:01.062159Z",
     "iopub.status.idle": "2021-01-11T07:17:01.075678Z",
     "shell.execute_reply": "2021-01-11T07:17:01.075171Z"
    },
    "papermill": {
     "duration": 2.97954,
     "end_time": "2021-01-11T07:17:01.075786",
     "exception": false,
     "start_time": "2021-01-11T07:16:58.096246",
     "status": "completed"
    },
    "tags": []
   },
   "outputs": [
    {
     "data": {
      "image/png": "[encoded data removed]",
      "text/plain": [
       "<IPython.core.display.Image object>"
      ]
     },
     "execution_count": 19,
     "metadata": {},
     "output_type": "execute_result"
    }
   ],
   "source": [
    "show(img)\n"
   ]
  },
  {
   "cell_type": "code",
   "execution_count": 20,
   "metadata": {
    "execution": {
     "iopub.execute_input": "2021-01-11T07:17:06.191445Z",
     "iopub.status.busy": "2021-01-11T07:17:06.190538Z",
     "iopub.status.idle": "2021-01-11T07:17:08.091528Z",
     "shell.execute_reply": "2021-01-11T07:17:08.092201Z"
    },
    "papermill": {
     "duration": 4.395855,
     "end_time": "2021-01-11T07:17:08.092358",
     "exception": false,
     "start_time": "2021-01-11T07:17:03.696503",
     "status": "completed"
    },
    "tags": []
   },
   "outputs": [
    {
     "name": "stdout",
     "output_type": "stream",
     "text": [
      "sea\n"
     ]
    }
   ],
   "source": [
    "image_prediction = np.argmax(model.predict(np.array([img])))\n",
    "print(index2class[image_prediction])"
   ]
  },
  {
   "cell_type": "code",
   "execution_count": null,
   "metadata": {
    "papermill": {
     "duration": 2.616747,
     "end_time": "2021-01-11T07:17:13.274324",
     "exception": false,
     "start_time": "2021-01-11T07:17:10.657577",
     "status": "completed"
    },
    "tags": []
   },
   "outputs": [],
   "source": []
  }
 ],
 "metadata": {
  "kernelspec": {
   "display_name": "Python 3",
   "language": "python",
   "name": "python3"
  },
  "language_info": {
   "codemirror_mode": {
    "name": "ipython",
    "version": 3
   },
   "file_extension": ".py",
   "mimetype": "text/x-python",
   "name": "python",
   "nbconvert_exporter": "python",
   "pygments_lexer": "ipython3",
   "version": "3.7.6"
  },
  "papermill": {
   "duration": 5097.940817,
   "end_time": "2021-01-11T07:17:16.782779",
   "environment_variables": {},
   "exception": null,
   "input_path": "__notebook__.ipynb",
   "output_path": "__notebook__.ipynb",
   "parameters": {},
   "start_time": "2021-01-11T05:52:18.841962",
   "version": "2.1.0"
  }
 },
 "nbformat": 4,
 "nbformat_minor": 4
}
